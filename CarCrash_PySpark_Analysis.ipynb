{
 "cells": [
  {
   "cell_type": "code",
   "execution_count": 0,
   "metadata": {
    "application/vnd.databricks.v1+cell": {
     "cellMetadata": {
      "byteLimit": 2048000,
      "rowLimit": 10000
     },
     "inputWidgets": {},
     "nuid": "1d64f849-a570-4614-879f-b919f817cb2e",
     "showTitle": false,
     "title": ""
    }
   },
   "outputs": [],
   "source": [
    "#importing required modules\n",
    "\n",
    "from pyspark.sql import SparkSession\n",
    "from pyspark.sql.functions import * \n",
    "from pyspark.sql.types import *\n",
    "from pyspark.sql.window import Window"
   ]
  },
  {
   "cell_type": "code",
   "execution_count": 0,
   "metadata": {
    "application/vnd.databricks.v1+cell": {
     "cellMetadata": {
      "byteLimit": 2048000,
      "rowLimit": 10000
     },
     "inputWidgets": {},
     "nuid": "3c5c4b23-f7fa-45d9-9720-98e9ddb21a21",
     "showTitle": false,
     "title": ""
    }
   },
   "outputs": [],
   "source": [
    "# creating Spark Session\n",
    "spark = SparkSession \\\n",
    "        .builder \\\n",
    "        .master(\"local\")\\\n",
    "        .appName(\"CarCrash_Spark_Application\") \\\n",
    "        .getOrCreate()"
   ]
  },
  {
   "cell_type": "code",
   "execution_count": 0,
   "metadata": {
    "application/vnd.databricks.v1+cell": {
     "cellMetadata": {
      "byteLimit": 2048000,
      "rowLimit": 10000
     },
     "inputWidgets": {},
     "nuid": "d766dcba-b14a-45f2-85de-553b7872f089",
     "showTitle": false,
     "title": ""
    }
   },
   "outputs": [],
   "source": [
    "# creating dataframes with data in the source path\n",
    "\n",
    "df_damages = spark.read.format(\"csv\").option(\"header\", \"true\").option(\"inferSchema\",\"true\").load(\"Data/Damages_use.csv\")\n",
    "df_endorse = spark.read.format(\"csv\").option(\"header\", \"true\").option(\"inferSchema\",\"true\").load(\"Data/Endorse_use.csv\")\n",
    "df_charges = spark.read.format(\"csv\").option(\"header\", \"true\").option(\"inferSchema\",\"true\").load(\"Data/Charges_use.csv\")\n",
    "df_restrict = spark.read.format(\"csv\").option(\"header\", \"true\").option(\"inferSchema\",\"true\").load(\"Data/Restrict_use.csv\")\n",
    "df_primperson = spark.read.format(\"csv\").option(\"header\", \"true\").option(\"inferSchema\",\"true\").load(\"Datam/Primary_Person_use.csv\")\n",
    "df_units = spark.read.format(\"csv\").option(\"header\", \"true\").option(\"inferSchema\",\"true\").load(\"Data/Units_use.csv\")"
   ]
  },
  {
   "cell_type": "markdown",
   "metadata": {
    "application/vnd.databricks.v1+cell": {
     "cellMetadata": {
      "byteLimit": 2048000,
      "rowLimit": 10000
     },
     "inputWidgets": {},
     "nuid": "f60b4715-70b4-49f7-bd42-87fbc9b75896",
     "showTitle": false,
     "title": ""
    }
   },
   "source": [
    "Analytics 1: Find the number of crashes (accidents) in which number of males killed are greater than 2?"
   ]
  },
  {
   "cell_type": "code",
   "execution_count": 0,
   "metadata": {
    "application/vnd.databricks.v1+cell": {
     "cellMetadata": {
      "byteLimit": 2048000,
      "rowLimit": 10000
     },
     "inputWidgets": {},
     "nuid": "214f3db3-1c55-4c9e-8b13-1cfd63c8ca97",
     "showTitle": false,
     "title": ""
    }
   },
   "outputs": [
    {
     "output_type": "stream",
     "name": "stdout",
     "output_type": "stream",
     "text": [
      "+------------+\n|PRSN_GNDR_ID|\n+------------+\n|          NA|\n|     UNKNOWN|\n|        MALE|\n|      FEMALE|\n+------------+\n\n+--------+------------------+\n|CRASH_ID|NO_OF_MALES_KILLED|\n+--------+------------------+\n+--------+------------------+\n\n"
     ]
    }
   ],
   "source": [
    "# Different persons(PRSN_GNDR_ID) that are involved in the crashes\n",
    "df_primperson.select('PRSN_GNDR_ID').distinct().show()\n",
    "\n",
    "# finding CRASH_ID in which number of males killed is greater than 2\n",
    "df = df_primperson.filter((col('PRSN_GNDR_ID')=='MALE') & (col('DEATH_CNT')==1)). \\\n",
    "                    groupBy('CRASH_ID').agg(sum(col(\"DEATH_CNT\")).alias(\"NO_OF_MALES_KILLED\")). \\\n",
    "                    filter(col(\"NO_OF_MALES_KILLED\")>2)\n",
    "df.show()\n"
   ]
  },
  {
   "cell_type": "markdown",
   "metadata": {
    "application/vnd.databricks.v1+cell": {
     "cellMetadata": {
      "byteLimit": 2048000,
      "rowLimit": 10000
     },
     "inputWidgets": {},
     "nuid": "7842958f-cc49-418a-b8dc-209103fc3d6b",
     "showTitle": false,
     "title": ""
    }
   },
   "source": [
    "Analysis 2: How many two wheelers are booked for crashes? "
   ]
  },
  {
   "cell_type": "code",
   "execution_count": 0,
   "metadata": {
    "application/vnd.databricks.v1+cell": {
     "cellMetadata": {
      "byteLimit": 2048000,
      "rowLimit": 10000
     },
     "inputWidgets": {},
     "nuid": "417a3694-f035-4ffe-a443-fc428508896b",
     "showTitle": false,
     "title": ""
    }
   },
   "outputs": [
    {
     "output_type": "stream",
     "name": "stdout",
     "output_type": "stream",
     "text": [
      "+---------------------------+\n|NO_OF_DISTINCT_TWO_WHEELERS|\n+---------------------------+\n|                        766|\n+---------------------------+\n\n"
     ]
    }
   ],
   "source": [
    "# finding No of two wheelers that are booked for crashes\n",
    "\n",
    "df_two_wheelers = df_units.filter(col('VEH_BODY_STYL_ID').contains(\"MOTORCYCLE\")). \\\n",
    "                            select(countDistinct('VIN').alias('NO_OF_DISTINCT_TWO_WHEELERS'))\n",
    "df_two_wheelers.show()\n"
   ]
  },
  {
   "cell_type": "code",
   "execution_count": 0,
   "metadata": {
    "application/vnd.databricks.v1+cell": {
     "cellMetadata": {
      "byteLimit": 2048000,
      "rowLimit": 10000
     },
     "inputWidgets": {},
     "nuid": "cf81e534-908e-4b0e-88e7-10127ad9ad65",
     "showTitle": false,
     "title": ""
    }
   },
   "outputs": [
    {
     "output_type": "stream",
     "name": "stdout",
     "output_type": "stream",
     "text": [
      "+--------------------+\n|    VEH_BODY_STYL_ID|\n+--------------------+\n|                 BUS|\n|                  NA|\n|                 VAN|\n|              PICKUP|\n|SPORT UTILITY VEH...|\n|PASSENGER CAR, 4-...|\n|          FIRE TRUCK|\n|               TRUCK|\n|             UNKNOWN|\n|           AMBULANCE|\n|    POLICE CAR/TRUCK|\n|          MOTORCYCLE|\n|   YELLOW SCHOOL BUS|\n|PASSENGER CAR, 2-...|\n|       TRUCK TRACTOR|\n|      FARM EQUIPMENT|\n|NEV-NEIGHBORHOOD ...|\n|OTHER  (EXPLAIN I...|\n|   POLICE MOTORCYCLE|\n|        NOT REPORTED|\n+--------------------+\n\n"
     ]
    }
   ],
   "source": [
    " df_units.select('VEH_BODY_STYL_ID').distinct().show()"
   ]
  },
  {
   "cell_type": "markdown",
   "metadata": {
    "application/vnd.databricks.v1+cell": {
     "cellMetadata": {
      "byteLimit": 2048000,
      "rowLimit": 10000
     },
     "inputWidgets": {},
     "nuid": "e23b720c-f9d7-4e6a-91f9-7b31c9b7afbc",
     "showTitle": false,
     "title": ""
    }
   },
   "source": [
    "Analysis 3: Determine the Top 5 Vehicle Makes of the cars present in the crashes in which driver died and Airbags did not deploy."
   ]
  },
  {
   "cell_type": "code",
   "execution_count": 0,
   "metadata": {
    "application/vnd.databricks.v1+cell": {
     "cellMetadata": {
      "byteLimit": 2048000,
      "rowLimit": 10000
     },
     "inputWidgets": {},
     "nuid": "8a3c460f-aad3-47af-9466-9572bbac9a50",
     "showTitle": false,
     "title": ""
    }
   },
   "outputs": [
    {
     "output_type": "stream",
     "name": "stdout",
     "output_type": "stream",
     "text": [
      "+---------------------------------+\n|VEH_BODY_STYL_ID                 |\n+---------------------------------+\n|BUS                              |\n|NA                               |\n|VAN                              |\n|PICKUP                           |\n|SPORT UTILITY VEHICLE            |\n|PASSENGER CAR, 4-DOOR            |\n|FIRE TRUCK                       |\n|TRUCK                            |\n|UNKNOWN                          |\n|AMBULANCE                        |\n|POLICE CAR/TRUCK                 |\n|MOTORCYCLE                       |\n|YELLOW SCHOOL BUS                |\n|PASSENGER CAR, 2-DOOR            |\n|TRUCK TRACTOR                    |\n|FARM EQUIPMENT                   |\n|NEV-NEIGHBORHOOD ELECTRIC VEHICLE|\n|OTHER  (EXPLAIN IN NARRATIVE)    |\n|POLICE MOTORCYCLE                |\n|NOT REPORTED                     |\n+---------------------------------+\n\n+-----------------+\n|   PRSN_AIRBAG_ID|\n+-----------------+\n|               NA|\n|     NOT DEPLOYED|\n|   DEPLOYED, SIDE|\n|          UNKNOWN|\n|   NOT APPLICABLE|\n|DEPLOYED MULTIPLE|\n|  DEPLOYED, FRONT|\n|   DEPLOYED, REAR|\n+-----------------+\n\n"
     ]
    }
   ],
   "source": [
    "# Type of vehicles based on the different vehicle body styles\n",
    "df_units.select(\"VEH_BODY_STYL_ID\").distinct().show(truncate=False)\n",
    "\n",
    "# finding value types of PRSN_AIRBAG_ID in case airbags are not deployed\n",
    "df_primperson.select('PRSN_AIRBAG_ID').distinct().show()"
   ]
  },
  {
   "cell_type": "code",
   "execution_count": 0,
   "metadata": {
    "application/vnd.databricks.v1+cell": {
     "cellMetadata": {
      "byteLimit": 2048000,
      "rowLimit": 10000
     },
     "inputWidgets": {},
     "nuid": "5710be84-bb7a-4270-9c8b-2a73ae64f14a",
     "showTitle": false,
     "title": ""
    }
   },
   "outputs": [
    {
     "output_type": "stream",
     "name": "stdout",
     "output_type": "stream",
     "text": [
      "+-----------+------------------------------+\n|VEH_MAKE_ID|COUNT_OF_VEHICLES_PER_VEH_MAKE|\n+-----------+------------------------------+\n|     NISSAN|                             4|\n|  CHEVROLET|                             3|\n|       FORD|                             2|\n|      HONDA|                             2|\n|      BUICK|                             1|\n+-----------+------------------------------+\n\n"
     ]
    }
   ],
   "source": [
    "# finding the Top 5 Vehicle Makes of the CARS present in the crashes in which DRIVEDR DIED and Airbags DID NOT DEPLOY.\n",
    "\n",
    "df = df_primperson.alias(\"pp\").join(df_units,on=['CRASH_ID','UNIT_NBR'],how=\"inner\"). \\\n",
    "                    filter((col('PRSN_TYPE_ID').contains('DRIVER')) & ((col('PRSN_AIRBAG_ID')=='NOT DEPLOYED')) & ((col('pp.DEATH_CNT')==1))). \\\n",
    "                    filter(col('VEH_BODY_STYL_ID').contains('CAR')). \\\n",
    "                    groupBy('VEH_MAKE_ID').agg(countDistinct(\"VIN\").alias('COUNT_OF_VEHICLES_PER_VEH_MAKE')). \\\n",
    "                    orderBy(col('COUNT_OF_VEHICLES_PER_VEH_MAKE').desc(),col('VEH_MAKE_ID').asc()).limit(5)\n",
    "\n",
    "df.show()\n"
   ]
  },
  {
   "cell_type": "markdown",
   "metadata": {
    "application/vnd.databricks.v1+cell": {
     "cellMetadata": {
      "byteLimit": 2048000,
      "rowLimit": 10000
     },
     "inputWidgets": {},
     "nuid": "bc7ca18e-16e4-4462-998b-bc9c227f5641",
     "showTitle": false,
     "title": ""
    }
   },
   "source": [
    "Analysis 4: Determine number of Vehicles with driver having valid licences involved in hit and run? "
   ]
  },
  {
   "cell_type": "code",
   "execution_count": 0,
   "metadata": {
    "application/vnd.databricks.v1+cell": {
     "cellMetadata": {
      "byteLimit": 2048000,
      "rowLimit": 10000
     },
     "inputWidgets": {},
     "nuid": "95c252db-151f-4fb4-8ed6-854583bcc35e",
     "showTitle": false,
     "title": ""
    }
   },
   "outputs": [
    {
     "output_type": "stream",
     "name": "stdout",
     "output_type": "stream",
     "text": [
      "+---------------------------------+\n|PRSN_TYPE_ID                     |\n+---------------------------------+\n|PEDESTRIAN                       |\n|DRIVER OF MOTORCYCLE TYPE VEHICLE|\n|PASSENGER/OCCUPANT               |\n|DRIVER                           |\n|UNKNOWN                          |\n|OTHER (EXPLAIN IN NARRATIVE)     |\n|PEDALCYCLIST                     |\n+---------------------------------+\n\n+----------------------+------------------+\n|DRVR_LIC_TYPE_ID      |DRVR_LIC_CLS_ID   |\n+----------------------+------------------+\n|DRIVER LICENSE        |CLASS A           |\n|COMMERCIAL DRIVER LIC.|CLASS A           |\n|OCCUPATIONAL          |CLASS A           |\n|OTHER                 |CLASS A           |\n|DRIVER LICENSE        |CLASS A AND M     |\n|COMMERCIAL DRIVER LIC.|CLASS A AND M     |\n|DRIVER LICENSE        |CLASS B           |\n|COMMERCIAL DRIVER LIC.|CLASS B           |\n|OTHER                 |CLASS B           |\n|DRIVER LICENSE        |CLASS B AND M     |\n|COMMERCIAL DRIVER LIC.|CLASS B AND M     |\n|DRIVER LICENSE        |CLASS C           |\n|OTHER                 |CLASS C           |\n|OCCUPATIONAL          |CLASS C           |\n|COMMERCIAL DRIVER LIC.|CLASS C           |\n|COMMERCIAL DRIVER LIC.|CLASS C AND M     |\n|DRIVER LICENSE        |CLASS C AND M     |\n|OCCUPATIONAL          |CLASS C AND M     |\n|DRIVER LICENSE        |CLASS M           |\n|COMMERCIAL DRIVER LIC.|CLASS M           |\n|NA                    |NA                |\n|COMMERCIAL DRIVER LIC.|OTHER/OUT OF STATE|\n|DRIVER LICENSE        |OTHER/OUT OF STATE|\n|OTHER                 |OTHER/OUT OF STATE|\n|OCCUPATIONAL          |OTHER/OUT OF STATE|\n|UNKNOWN               |UNKNOWN           |\n|DRIVER LICENSE        |UNKNOWN           |\n|OCCUPATIONAL          |UNKNOWN           |\n|COMMERCIAL DRIVER LIC.|UNKNOWN           |\n|OTHER                 |UNKNOWN           |\n|ID CARD               |UNLICENSED        |\n|UNLICENSED            |UNLICENSED        |\n|DRIVER LICENSE        |UNLICENSED        |\n|OTHER                 |UNLICENSED        |\n|OCCUPATIONAL          |UNLICENSED        |\n|COMMERCIAL DRIVER LIC.|UNLICENSED        |\n+----------------------+------------------+\n\n"
     ]
    }
   ],
   "source": [
    "# Distinct type of persons involved in Crashes\n",
    "df_primperson.select(\"PRSN_TYPE_ID\").distinct().show(truncate=False)\n",
    "\n",
    "# Finding what can be the valid Driver license types and the Driver license class ID\n",
    "df_primperson.select('DRVR_LIC_TYPE_ID','DRVR_LIC_CLS_ID').distinct().orderBy('DRVR_LIC_CLS_ID').show(50,truncate=False)\n"
   ]
  },
  {
   "cell_type": "code",
   "execution_count": 0,
   "metadata": {
    "application/vnd.databricks.v1+cell": {
     "cellMetadata": {
      "byteLimit": 2048000,
      "rowLimit": 10000
     },
     "inputWidgets": {},
     "nuid": "91cf3052-f4da-4edc-8a4e-a1208f8a66a2",
     "showTitle": false,
     "title": ""
    }
   },
   "outputs": [
    {
     "output_type": "stream",
     "name": "stdout",
     "output_type": "stream",
     "text": [
      "+--------------+\n|NO_OF_VEHICLES|\n+--------------+\n|          2365|\n+--------------+\n\n"
     ]
    }
   ],
   "source": [
    "# Considering VALID DRIVER LICENSES as the ones with class ID in the list->\n",
    "# [CLASS A, CLASS B, CLASS C, CLASS M, CLASS A AND M, CLASS B AND M, CLASS C AND M]\n",
    "\n",
    "# Finding Number of distinct Vehicles where PRSN_TYPE_ID is any DRIVER having a VALID LICENSE and involved in HIT and RUN \n",
    "\n",
    "df_no_of_vehicles = df_primperson.join(df_units,on=['CRASH_ID','UNIT_NBR'],how=\"inner\"). \\\n",
    "                                filter((col('PRSN_TYPE_ID').contains('DRIVER'))&(col('DRVR_LIC_CLS_ID').contains('CLASS'))). \\\n",
    "                                filter(col('VEH_HNR_FL')=='Y'). \\\n",
    "                                select(countDistinct(\"VIN\").alias(\"NO_OF_VEHICLES\"))\n",
    "\n",
    "df_no_of_vehicles.show()\n",
    "\n"
   ]
  },
  {
   "cell_type": "markdown",
   "metadata": {
    "application/vnd.databricks.v1+cell": {
     "cellMetadata": {
      "byteLimit": 2048000,
      "rowLimit": 10000
     },
     "inputWidgets": {},
     "nuid": "31a4e107-b083-4049-8fe2-7dfc1007150c",
     "showTitle": false,
     "title": ""
    }
   },
   "source": [
    "Analysis 5: Which state has highest number of accidents in which females are not involved? "
   ]
  },
  {
   "cell_type": "code",
   "execution_count": 0,
   "metadata": {
    "application/vnd.databricks.v1+cell": {
     "cellMetadata": {
      "byteLimit": 2048000,
      "rowLimit": 10000
     },
     "inputWidgets": {},
     "nuid": "dc009fb8-7ddb-434e-b764-44d3996c9064",
     "showTitle": false,
     "title": ""
    }
   },
   "outputs": [
    {
     "output_type": "stream",
     "name": "stdout",
     "output_type": "stream",
     "text": [
      "+-----------------+-----+\n|DRVR_LIC_STATE_ID|count|\n+-----------------+-----+\n|            Texas|51957|\n+-----------------+-----+\n\n"
     ]
    }
   ],
   "source": [
    "# Finding Crash IDs where No Female is involved\n",
    "df_crash_with_no_female = df_primperson.withColumn('NO_OF_FEMALES',when(col('PRSN_GNDR_ID')=='FEMALE',1).otherwise(0)). \\\n",
    "                                        groupBy(col('CRASH_ID')).agg(sum(col('NO_OF_FEMALES')).alias('NO_OF_FEMALES_PER_CRASH')). \\\n",
    "                                        filter(col('NO_OF_FEMALES_PER_CRASH')==0).select('CRASH_ID')\n",
    "\n",
    "# State that have highest number of accidents in which No Females are involved\n",
    "df_state_most_accidents = df_crash_with_no_female.join(df_primperson,on='CRASH_ID',how='inner'). \\\n",
    "                                                            groupBy('DRVR_LIC_STATE_ID').count(). \\\n",
    "                                                            filter(~col(\"DRVR_LIC_STATE_ID\").isin(\"Other\",\"Unknown\",\"NA\")). \\\n",
    "                                                            orderBy(col(\"count\").desc()).limit(1)\n",
    "df_state_most_accidents.show()\n"
   ]
  },
  {
   "cell_type": "markdown",
   "metadata": {
    "application/vnd.databricks.v1+cell": {
     "cellMetadata": {
      "byteLimit": 2048000,
      "rowLimit": 10000
     },
     "inputWidgets": {},
     "nuid": "aed76714-b8c5-4b08-92b5-6c6b044d9c6c",
     "showTitle": false,
     "title": ""
    }
   },
   "source": [
    "Analysis 6: Which are the Top 3rd to 5th VEH_MAKE_IDs that contribute to a largest number of injuries including death"
   ]
  },
  {
   "cell_type": "code",
   "execution_count": 0,
   "metadata": {
    "application/vnd.databricks.v1+cell": {
     "cellMetadata": {
      "byteLimit": 2048000,
      "rowLimit": 10000
     },
     "inputWidgets": {},
     "nuid": "b5bef533-cda4-4e00-bd18-6f4e4b4729af",
     "showTitle": false,
     "title": ""
    }
   },
   "outputs": [
    {
     "output_type": "stream",
     "name": "stdout",
     "output_type": "stream",
     "text": [
      "+-----------+-------------------------+---+\n|VEH_MAKE_ID|TOTAL_INJURIES_VEH_MAKEID|row|\n+-----------+-------------------------+---+\n|TOYOTA     |4228                     |3  |\n|DODGE      |3146                     |4  |\n|NISSAN     |3118                     |5  |\n+-----------+-------------------------+---+\n\n"
     ]
    }
   ],
   "source": [
    "# creating Window object for row_number() to be used next \n",
    "w = Window.orderBy(col(\"TOTAL_INJURIES_VEH_MAKEID\").desc())\n",
    "\n",
    "\n",
    "# Finding Top 3rd to 5th VEH_MAKE_IDs that contribute to the largest number of injuries including death    \n",
    "                                             \n",
    "df_3to5_veh_make_id = df_units.withColumn('TOTAL_INJURIES', col('TOT_INJRY_CNT')+col('DEATH_CNT')). \\\n",
    "                            groupby(\"VEH_MAKE_ID\").agg(sum(col(\"TOTAL_INJURIES\")).alias('TOTAL_INJURIES_VEH_MAKEID')). \\\n",
    "                            withColumn(\"row\", row_number().over(w)).filter(col(\"row\").isin([3,4,5]))\n",
    "\n",
    "df_3to5_veh_make_id.show(truncate=False)\n",
    "       "
   ]
  },
  {
   "cell_type": "markdown",
   "metadata": {
    "application/vnd.databricks.v1+cell": {
     "cellMetadata": {
      "byteLimit": 2048000,
      "rowLimit": 10000
     },
     "inputWidgets": {},
     "nuid": "59c4195d-aa40-41f9-9668-586746c9bd1c",
     "showTitle": false,
     "title": ""
    }
   },
   "source": [
    "Analysis 7: For all the body styles involved in crashes, mention the top ethnic user group of each unique body style"
   ]
  },
  {
   "cell_type": "code",
   "execution_count": 0,
   "metadata": {
    "application/vnd.databricks.v1+cell": {
     "cellMetadata": {
      "byteLimit": 2048000,
      "rowLimit": 10000
     },
     "inputWidgets": {},
     "nuid": "7abd2fbb-4b6b-4026-88d9-783983ec35a4",
     "showTitle": false,
     "title": ""
    }
   },
   "outputs": [
    {
     "output_type": "stream",
     "name": "stdout",
     "output_type": "stream",
     "text": [
      "+---------------------------------+\n|VEH_BODY_STYL_ID                 |\n+---------------------------------+\n|BUS                              |\n|NA                               |\n|VAN                              |\n|PICKUP                           |\n|SPORT UTILITY VEHICLE            |\n|PASSENGER CAR, 4-DOOR            |\n|FIRE TRUCK                       |\n|TRUCK                            |\n|UNKNOWN                          |\n|AMBULANCE                        |\n|POLICE CAR/TRUCK                 |\n|MOTORCYCLE                       |\n|YELLOW SCHOOL BUS                |\n|PASSENGER CAR, 2-DOOR            |\n|TRUCK TRACTOR                    |\n|FARM EQUIPMENT                   |\n|NEV-NEIGHBORHOOD ELECTRIC VEHICLE|\n|OTHER  (EXPLAIN IN NARRATIVE)    |\n|POLICE MOTORCYCLE                |\n|NOT REPORTED                     |\n+---------------------------------+\n\n+---------------------------+\n|PRSN_ETHNICITY_ID          |\n+---------------------------+\n|AMER. INDIAN/ALASKAN NATIVE|\n|ASIAN                      |\n|BLACK                      |\n|HISPANIC                   |\n|NA                         |\n|OTHER                      |\n|UNKNOWN                    |\n|WHITE                      |\n+---------------------------+\n\n"
     ]
    }
   ],
   "source": [
    "# Unique vehicle body styles involved in crashes\n",
    "df_units.select('VEH_BODY_STYL_ID').distinct().show(truncate=False)\n",
    "\n",
    "# Distinct ethnic groups of people involved in Crashes\n",
    "df_primperson.select('PRSN_ETHNICITY_ID').distinct().orderBy(\"PRSN_ETHNICITY_ID\").show(truncate=False)"
   ]
  },
  {
   "cell_type": "code",
   "execution_count": 0,
   "metadata": {
    "application/vnd.databricks.v1+cell": {
     "cellMetadata": {
      "byteLimit": 2048000,
      "rowLimit": 10000
     },
     "inputWidgets": {},
     "nuid": "8b5f0be1-7aff-4dd5-bbe5-501b99c076c1",
     "showTitle": false,
     "title": ""
    }
   },
   "outputs": [
    {
     "output_type": "stream",
     "name": "stdout",
     "output_type": "stream",
     "text": [
      "+---------------------------------+-----------------+\n|VEH_BODY_STYL_ID                 |PRSN_ETHNICITY_ID|\n+---------------------------------+-----------------+\n|AMBULANCE                        |WHITE            |\n|BUS                              |HISPANIC         |\n|FARM EQUIPMENT                   |WHITE            |\n|FIRE TRUCK                       |WHITE            |\n|MOTORCYCLE                       |WHITE            |\n|NEV-NEIGHBORHOOD ELECTRIC VEHICLE|WHITE            |\n|PASSENGER CAR, 2-DOOR            |WHITE            |\n|PASSENGER CAR, 4-DOOR            |WHITE            |\n|PICKUP                           |WHITE            |\n|POLICE CAR/TRUCK                 |WHITE            |\n|POLICE MOTORCYCLE                |WHITE            |\n|SPORT UTILITY VEHICLE            |WHITE            |\n|TRUCK                            |WHITE            |\n|TRUCK TRACTOR                    |WHITE            |\n|VAN                              |WHITE            |\n|YELLOW SCHOOL BUS                |BLACK            |\n+---------------------------------+-----------------+\n\n"
     ]
    }
   ],
   "source": [
    "# creating Window object for row_number() to be used next \n",
    "w = Window.partitionBy(\"VEH_BODY_STYL_ID\").orderBy(col(\"count\").desc())\n",
    "\n",
    "# Finding top ethnic user group for each unique vehicle body style involved in Crashes\n",
    "\n",
    "df=df_primperson.alias('pp').join(df_units.alias('u'),on=['CRASH_ID','UNIT_NBR'],how='inner'). \\\n",
    "                filter(~col('u.VEH_BODY_STYL_ID').isin([\"NA\", \"UNKNOWN\", \"NOT REPORTED\", \"OTHER  (EXPLAIN IN NARRATIVE)\"])). \\\n",
    "                filter(~col('pp.PRSN_ETHNICITY_ID').isin([\"NA\", \"UNKNOWN\"])). \\\n",
    "                groupby(\"VEH_BODY_STYL_ID\", \"PRSN_ETHNICITY_ID\").count(). \\\n",
    "                withColumn(\"row\", row_number().over(w)).filter(col(\"row\") == 1).drop(\"row\", \"count\")\n",
    "\n",
    "df.show(truncate=False)"
   ]
  },
  {
   "cell_type": "markdown",
   "metadata": {
    "application/vnd.databricks.v1+cell": {
     "cellMetadata": {
      "byteLimit": 2048000,
      "rowLimit": 10000
     },
     "inputWidgets": {},
     "nuid": "0ba995c3-9f6a-4f46-8045-ffaa0a5a95ee",
     "showTitle": false,
     "title": ""
    }
   },
   "source": [
    "Analysis 8: Among the crashed cars, what are the Top 5 Zip Codes with highest number crashes with alcohols as the contributing factor to a crash (Use Driver Zip Code)"
   ]
  },
  {
   "cell_type": "code",
   "execution_count": 0,
   "metadata": {
    "application/vnd.databricks.v1+cell": {
     "cellMetadata": {
      "byteLimit": 2048000,
      "rowLimit": 10000
     },
     "inputWidgets": {},
     "nuid": "73a2cd8b-03cd-46fd-a744-12917c100add",
     "showTitle": false,
     "title": ""
    }
   },
   "outputs": [
    {
     "output_type": "stream",
     "name": "stdout",
     "output_type": "stream",
     "text": [
      "+--------+\n|DRVR_ZIP|\n+--------+\n|   76010|\n|   78521|\n|   75067|\n|   78574|\n|   75052|\n+--------+\n\n"
     ]
    }
   ],
   "source": [
    "# Top 5 Zip Codes with highest number crashes with alcohols as the contributing factor to a crash\n",
    "\n",
    "df = df_units.join(df_primperson, on=['CRASH_ID'], how='inner'). \\\n",
    "            dropna(subset=[\"DRVR_ZIP\"]). \\\n",
    "            filter(col(\"CONTRIB_FACTR_1_ID\").contains(\"ALCOHOL\") | col(\"CONTRIB_FACTR_2_ID\").contains(\"ALCOHOL\")). \\\n",
    "            groupby(\"DRVR_ZIP\").count().orderBy(col(\"count\").desc()).limit(5).drop(\"count\")\n",
    "df.show()            "
   ]
  },
  {
   "cell_type": "markdown",
   "metadata": {
    "application/vnd.databricks.v1+cell": {
     "cellMetadata": {
      "byteLimit": 2048000,
      "rowLimit": 10000
     },
     "inputWidgets": {},
     "nuid": "02d15942-ca8a-42b0-83bd-abf066e09aa5",
     "showTitle": false,
     "title": ""
    }
   },
   "source": [
    "Analysis 9: Count of Distinct Crash IDs where No Damaged Property was observed and Damage Level (VEH_DMAG_SCL~) is above 4 and car avails Insurance"
   ]
  },
  {
   "cell_type": "code",
   "execution_count": 0,
   "metadata": {
    "application/vnd.databricks.v1+cell": {
     "cellMetadata": {
      "byteLimit": 2048000,
      "rowLimit": 10000
     },
     "inputWidgets": {},
     "nuid": "f1206c8c-649f-4356-8c50-70b34340733c",
     "showTitle": false,
     "title": ""
    }
   },
   "outputs": [
    {
     "output_type": "stream",
     "name": "stdout",
     "output_type": "stream",
     "text": [
      "+----------------------------------------+\n|FIN_RESP_TYPE_ID                        |\n+----------------------------------------+\n|INSURANCE BINDER                        |\n|LIABILITY INSURANCE POLICY              |\n|NA                                      |\n|CERTIFICATE OF SELF-INSURANCE           |\n|CERTIFICATE OF DEPOSIT WITH COMPTROLLER |\n|SURETY BOND                             |\n|PROOF OF LIABILITY INSURANCE            |\n|CERTIFICATE OF DEPOSIT WITH COUNTY JUDGE|\n+----------------------------------------+\n\n+-----------------+\n|VEH_DMAG_SCL_1_ID|\n+-----------------+\n|DAMAGED 1 MINIMUM|\n|        DAMAGED 2|\n|        DAMAGED 3|\n|        DAMAGED 4|\n|        DAMAGED 5|\n|        DAMAGED 6|\n|DAMAGED 7 HIGHEST|\n|    INVALID VALUE|\n|               NA|\n|        NO DAMAGE|\n+-----------------+\n\n"
     ]
    }
   ],
   "source": [
    "# Different kinds of Insurance that the vehicle can possess\n",
    "\n",
    "df_units.select('FIN_RESP_TYPE_ID').distinct().show(truncate=False)\n",
    "\n",
    "# Different types of damages observed during the crashes\n",
    "\n",
    "df_units.select('VEH_DMAG_SCL_1_ID').distinct().orderBy('VEH_DMAG_SCL_1_ID').show()"
   ]
  },
  {
   "cell_type": "code",
   "execution_count": 0,
   "metadata": {
    "application/vnd.databricks.v1+cell": {
     "cellMetadata": {
      "byteLimit": 2048000,
      "rowLimit": 10000
     },
     "inputWidgets": {},
     "nuid": "3d438e28-8fa5-4ba5-9d9f-5886df498f4f",
     "showTitle": false,
     "title": ""
    }
   },
   "outputs": [
    {
     "output_type": "stream",
     "name": "stdout",
     "output_type": "stream",
     "text": [
      "+---------------------------+\n|COUNT_OF_DISTINCT_CRASH_IDS|\n+---------------------------+\n|                          8|\n+---------------------------+\n\n"
     ]
    }
   ],
   "source": [
    "# Considering all types of car insurances as valid except where \"FIN_RESP_TYPE_ID\"= \"NA\"\n",
    "\n",
    "# Count of Distinct Crash IDs where No Damaged Property was observed and Damage Level is above 4 and car avails Insurance\n",
    "df = df_damages.alias('d').join(df_units.alias('u'), on=[\"CRASH_ID\"], how='inner'). \\\n",
    "            filter(\n",
    "            ((col('u.VEH_DMAG_SCL_1_ID') > \"DAMAGED 4\") & (~col('u.VEH_DMAG_SCL_1_ID').isin([\"NA\", \"NO DAMAGE\", \"INVALID VALUE\"]))\n",
    "            ) | \n",
    "            ((col('u.VEH_DMAG_SCL_2_ID') > \"DAMAGED 4\") & (~col('u.VEH_DMAG_SCL_2_ID').isin([\"NA\", \"NO DAMAGE\", \"INVALID VALUE\"]))\n",
    "            )). \\\n",
    "            filter(col('d.DAMAGED_PROPERTY') == \"NONE\"). \\\n",
    "            filter(col('u.FIN_RESP_TYPE_ID') != \"NA\"). \\\n",
    "            select(countDistinct('u.CRASH_ID').alias(\"COUNT_OF_DISTINCT_CRASH_IDS\"))\n",
    "\n",
    "df.show()"
   ]
  },
  {
   "cell_type": "markdown",
   "metadata": {
    "application/vnd.databricks.v1+cell": {
     "cellMetadata": {
      "byteLimit": 2048000,
      "rowLimit": 10000
     },
     "inputWidgets": {},
     "nuid": "afa02d2a-9705-457c-b90e-2903494e4c65",
     "showTitle": false,
     "title": ""
    }
   },
   "source": [
    "Analysis 10: Determine the Top 5 Vehicle Makes where drivers are charged with speeding related offences, has licensed Drivers, used top 10 used vehicle colours and has car licensed with the Top 25 states with highest number of offences (to be deduced from the data)"
   ]
  },
  {
   "cell_type": "code",
   "execution_count": 0,
   "metadata": {
    "application/vnd.databricks.v1+cell": {
     "cellMetadata": {
      "byteLimit": 2048000,
      "rowLimit": 10000
     },
     "inputWidgets": {},
     "nuid": "d0375afc-97c5-4a8b-b032-de108ca35824",
     "showTitle": false,
     "title": ""
    }
   },
   "outputs": [
    {
     "output_type": "stream",
     "name": "stdout",
     "output_type": "stream",
     "text": [
      "top25_offences_state:  ['TX', 'NA', 'UN', 'OK', 'LA', 'NM', 'IN', 'MX', 'CA', 'FL', 'IL', 'AR', 'TN', 'MS', 'AZ', 'KS', 'MO', 'GA', 'CO', 'NC', 'AL', 'OH', 'MI', 'MN', 'WI']\ntop10_vehicle_colors:  ['WHI', 'BLK', 'SIL', 'GRY', 'BLU', 'RED', 'GRN', 'MAR', 'TAN', 'GLD']\n+-----------+\n|VEH_MAKE_ID|\n+-----------+\n|       FORD|\n|  CHEVROLET|\n|     TOYOTA|\n|      DODGE|\n|     NISSAN|\n+-----------+\n\n"
     ]
    }
   ],
   "source": [
    "# Creating list of the Top 25 states with highest number of offences\n",
    "top25_offences_state = [row[0] for row in df_units.filter(col(\"VEH_LIC_STATE_ID\").cast(\"int\").isNull()). \\\n",
    "                            groupby(\"VEH_LIC_STATE_ID\").count().orderBy(col(\"count\").desc()).limit(25).collect()]\n",
    "print(\"top25_offences_state: \",top25_offences_state)\n",
    "\n",
    "\n",
    "# Creating list of top 10 used vehicle colours\n",
    "top10_vehicle_colors = [row[0] for row in df_units.filter(col('VEH_COLOR_ID') != \"NA\"). \\\n",
    "                        groupby(\"VEH_COLOR_ID\").count().orderBy(col(\"count\").desc()).limit(10).collect()]\n",
    "print(\"top10_vehicle_colors: \",top10_vehicle_colors)\n",
    "\n",
    "\n",
    "# Top 5 Vehicle Makes where drivers are licensed Drivers and charged with speeding related offences, used top 10 used vehicle colours and has car licensed with the Top 25 states with highest number of offences\n",
    "\n",
    "df = df_charges.join(df_primperson, on=['CRASH_ID'], how='inner'). \\\n",
    "                join(df_units, on=['CRASH_ID'], how='inner'). \\\n",
    "                filter(df_charges.CHARGE.contains(\"SPEED\")). \\\n",
    "                filter(df_primperson.DRVR_LIC_TYPE_ID.isin([\"DRIVER LICENSE\", \"COMMERCIAL DRIVER LIC.\"])). \\\n",
    "                filter(df_units.VEH_COLOR_ID.isin(top10_vehicle_colors)). \\\n",
    "                filter(df_units.VEH_LIC_STATE_ID.isin(top25_offences_state)). \\\n",
    "                groupby(\"VEH_MAKE_ID\").count(). \\\n",
    "                orderBy(col(\"count\").desc()).limit(5).drop(\"count\")\n",
    "df.show()                "
   ]
  }
 ],
 "metadata": {
  "application/vnd.databricks.v1+notebook": {
   "dashboards": [],
   "language": "python",
   "notebookMetadata": {
    "pythonIndentUnit": 4
   },
   "notebookName": "CarCrash_Spark_Application",
   "widgets": {}
  }
 },
 "nbformat": 4,
 "nbformat_minor": 0
}
